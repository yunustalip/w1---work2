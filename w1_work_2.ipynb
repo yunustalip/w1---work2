{
  "nbformat": 4,
  "nbformat_minor": 0,
  "metadata": {
    "colab": {
      "provenance": [],
      "authorship_tag": "ABX9TyPZmSOp43temFU2JKPq5Qts",
      "include_colab_link": true
    },
    "kernelspec": {
      "name": "python3",
      "display_name": "Python 3"
    },
    "language_info": {
      "name": "python"
    }
  },
  "cells": [
    {
      "cell_type": "markdown",
      "metadata": {
        "id": "view-in-github",
        "colab_type": "text"
      },
      "source": [
        "<a href=\"https://colab.research.google.com/github/yunustalip/w1---work2/blob/main/w1_work_2.ipynb\" target=\"_parent\"><img src=\"https://colab.research.google.com/assets/colab-badge.svg\" alt=\"Open In Colab\"/></a>"
      ]
    },
    {
      "cell_type": "code",
      "execution_count": null,
      "metadata": {
        "colab": {
          "base_uri": "https://localhost:8080/"
        },
        "id": "XUgn2EPQzgri",
        "outputId": "58b77196-d59f-4318-86bd-d2c1055adaf6"
      },
      "outputs": [
        {
          "output_type": "stream",
          "name": "stdout",
          "text": [
            "[2, 3, 5, 7, 11, 13, 17, 19, 23, 29, 31, 37, 41, 43, 47, 53, 59, 61, 67, 71, 73, 79, 83, 89, 97, 101, 103, 107, 109, 113, 127, 131, 137, 139, 149, 151, 157, 163, 167, 173, 179, 181, 191, 193, 197, 199, 211, 223, 227, 229, 233, 239, 241, 251, 257, 263, 269, 271, 277, 281, 283, 293, 307, 311, 313, 317, 331, 337, 347, 349, 353, 359, 367, 373, 379, 383, 389, 397, 401, 409, 419, 421, 431, 433, 439, 443, 449, 457, 461, 463, 467, 479, 487, 491, 499, 503, 509, 521, 523, 541, 547]\n"
          ]
        }
      ],
      "source": [
        "def is_prime(num):\n",
        "  if (num<2):\n",
        "    return False\n",
        "  elif(num == 2):\n",
        "    return True\n",
        "  elif(num%2 == 0):\n",
        "    return False\n",
        "  i=2  \n",
        "  while i<int(num/2):\n",
        "    if(num%i == 0):\n",
        "      return False\n",
        "    i=i+1\n",
        "  return True\n",
        "\n",
        "\n",
        "my_prime_list = [2]\n",
        "def my_primes(threepoints, num=3):\n",
        "  for i in range(1,100):\n",
        "    if(is_prime(num)):\n",
        "      my_prime_list.append(num)\n",
        "      if(len(my_prime_list) == threepoints):\n",
        "        print(my_prime_list)\n",
        "        break\n",
        "    if(i == 99):\n",
        "      my_primes(threepoints,num+2)\n",
        "    num+=2\n",
        "\n",
        "# Sadece ilk 100 asasl sayı değil istenen ilk x tane asal sayıyı bulmak için genel fonksiyon olarak yazılmıştır.\n",
        "my_primes(100)"
      ]
    }
  ]
}